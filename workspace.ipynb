{
 "cells": [
  {
   "cell_type": "code",
   "execution_count": 2,
   "metadata": {
    "collapsed": true
   },
   "outputs": [],
   "source": [
    "import requests"
   ]
  },
  {
   "cell_type": "code",
   "execution_count": 6,
   "outputs": [
    {
     "name": "stdout",
     "output_type": "stream",
     "text": [
      "{'code': 'Ok', 'waypoints': [{'nodes': [8507892381, 0], 'hint': 'ozriCLtR34AYAAAABQAAAAAAAAAgAAAASjFaQdLNK0AAAAAAsPePQQwAAAADAAAAAAAAABAAAABx6AAA_kvMAKlYIQM8TMwArVghAwAA7wr0CAxx', 'distance': 4.231666, 'location': [13.388798, 52.517033], 'name': 'Friedrichstraße'}, {'nodes': [2264199819, 0], 'hint': 'ozriCLtR34AAAAAAIAAAAB0AAAAAAAAAAAAAALD3j0FGkoJBAAAAAAAAAAAQAAAADwAAAAAAAABx6AAAAkzMAJFYIQM8TMwArVghAwEA7wr0CAxx', 'distance': 5.020526, 'location': [13.388802, 52.517009], 'name': 'Friedrichstraße'}, {'nodes': [0, 21487242], 'hint': 'ojriiKxR3wAAAAAADwAAAAAAAACXAAAAAAAAAAgwH0EAAAAAEgyvQgAAAAAPAAAAAAAAAJcAAABx6AAA60vMACNZIQM8TMwArVghAwAALxb0CAxx', 'distance': 14.235305, 'location': [13.388779, 52.517155], 'name': 'Friedrichstraße'}]}\n"
     ]
    }
   ],
   "source": [
    "r = requests.get('http://router.project-osrm.org/nearest/v1/driving/13.388860,52.517037?number=3&bearings=0,20')\n",
    "print(r.json())"
   ],
   "metadata": {
    "collapsed": false,
    "pycharm": {
     "name": "#%%\n"
    }
   }
  }
 ],
 "metadata": {
  "kernelspec": {
   "display_name": "Python 3",
   "language": "python",
   "name": "python3"
  },
  "language_info": {
   "codemirror_mode": {
    "name": "ipython",
    "version": 2
   },
   "file_extension": ".py",
   "mimetype": "text/x-python",
   "name": "python",
   "nbconvert_exporter": "python",
   "pygments_lexer": "ipython2",
   "version": "2.7.6"
  }
 },
 "nbformat": 4,
 "nbformat_minor": 0
}