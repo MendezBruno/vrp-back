{
 "cells": [
  {
   "cell_type": "code",
   "execution_count": 1,
   "metadata": {
    "collapsed": true
   },
   "outputs": [],
   "source": [
    "import requests"
   ]
  },
  {
   "cell_type": "code",
   "execution_count": 6,
   "outputs": [
    {
     "name": "stdout",
     "output_type": "stream",
     "text": [
      "{'code': 'Ok', 'waypoints': [{'nodes': [8507892381, 0], 'hint': 'ozriCLtR34AYAAAABQAAAAAAAAAgAAAASjFaQdLNK0AAAAAAsPePQQwAAAADAAAAAAAAABAAAABx6AAA_kvMAKlYIQM8TMwArVghAwAA7wr0CAxx', 'distance': 4.231666, 'location': [13.388798, 52.517033], 'name': 'Friedrichstraße'}, {'nodes': [2264199819, 0], 'hint': 'ozriCLtR34AAAAAAIAAAAB0AAAAAAAAAAAAAALD3j0FGkoJBAAAAAAAAAAAQAAAADwAAAAAAAABx6AAAAkzMAJFYIQM8TMwArVghAwEA7wr0CAxx', 'distance': 5.020526, 'location': [13.388802, 52.517009], 'name': 'Friedrichstraße'}, {'nodes': [0, 21487242], 'hint': 'ojriiKxR3wAAAAAADwAAAAAAAACXAAAAAAAAAAgwH0EAAAAAEgyvQgAAAAAPAAAAAAAAAJcAAABx6AAA60vMACNZIQM8TMwArVghAwAALxb0CAxx', 'distance': 14.235305, 'location': [13.388779, 52.517155], 'name': 'Friedrichstraße'}]}\n"
     ]
    }
   ],
   "source": [
    "r = requests.get('http://router.project-osrm.org/nearest/v1/driving/13.388860,52.517037?number=3&bearings=0,20')\n",
    "print(r.json())"
   ],
   "metadata": {
    "collapsed": false,
    "pycharm": {
     "name": "#%%\n"
    }
   }
  },
  {
   "cell_type": "code",
   "execution_count": 5,
   "outputs": [],
   "source": [
    "base_url = \"http://router.project-osrm.org/\""
   ],
   "metadata": {
    "collapsed": false,
    "pycharm": {
     "name": "#%%\n"
    }
   }
  },
  {
   "cell_type": "markdown",
   "source": [
    "/route/v1/{profile}/{coordinates}?alternatives={true|false|number}&steps={true|false}&geometries={polyline|polyline6|geojson}&overview={full|simplified|false}&annotations={true|false}\n",
    "\n",
    "'http://router.project-osrm.org/route/v1/driving/13.388860,52.517037;13.397634,52.529407;13.428555,52.523219?overview=false'"
   ],
   "metadata": {
    "collapsed": false
   }
  },
  {
   "cell_type": "code",
   "execution_count": 8,
   "outputs": [
    {
     "name": "stdout",
     "output_type": "stream",
     "text": [
      "{'code': 'Ok', 'waypoints': [{'hint': 'ETbShf___38cAAAAcgAAAAAAAAAAAAAAj27JQYeVmEIAAAAAAAAAABwAAAByAAAAAAAAAAAAAABYWQAA3MaG_M0r7v3pxob8uyvu_QAAvwOV0jxv', 'distance': 2.324863, 'location': [-58.276132, -34.722867], 'name': 'San Juan'}, {'hint': 'BKqggAa21YUjAAAACAAAAAAAAAAAAAAAybVsQUBzPkAAAAAAAAAAACMAAAAIAAAAAAAAAAAAAABYWQAAI-yF_AK77f1P7IX8-brt_QAALwyV0jxv', 'distance': 4.149634, 'location': [-58.332125, -34.751742], 'name': ''}, {'hint': 'Zv3VhWr91YU7AAAAQQAAAAAAAAAAAAAAnfWdQlgVrUIAAAAAAAAAADsAAABBAAAAAAAAAAAAAABYWQAA1jWG_L9I7f3nNYb8rEjt_QAAnw6V0jxv', 'distance': 2.619964, 'location': [-58.313258, -34.780993], 'name': 'Avenida José Andrés López'}], 'routes': [{'legs': [{'steps': [], 'weight': 3869.8, 'distance': 6894.8, 'summary': '', 'duration': 593.1}, {'steps': [], 'weight': 356.1, 'distance': 4660.3, 'summary': '', 'duration': 356.1}], 'weight_name': 'routability', 'weight': 4225.9, 'distance': 11555.1, 'duration': 949.2}]}\n"
     ]
    }
   ],
   "source": [
    "profile = \"driving\"\n",
    "sanjuan = \"-58.27611923217773,-34.7228847459182\"\n",
    "federal = \"-58.332080841064446,-34.75175051870402\"\n",
    "roel = \"-58.31324100494384,-34.78101155893815\"\n",
    "myTuple = (sanjuan,federal,roel)\n",
    "#coordinates = \"13.388860,52.517037;13.397634,52.529407;13.428555,52.523219\"\n",
    "coordinates = \";\".join(myTuple)\n",
    "alternative= \"2\"   #{true|false|number}\n",
    "step = \"false\"    #{true | false }\n",
    "geometry= \"geojson\"      #{polyline|polyline6|geojson}\n",
    "overview= \"false\"   #{full|simplified|false}\n",
    "annotation=\"false\"     #{true|false}\n",
    "route_service_url = \"route/v1/{profile}/{coordinates}?alternatives={alternatives}&steps={steps}&geometries={geometries}&overview={overview}&annotations={annotations}\".format(profile = profile, coordinates = coordinates, alternatives = alternative,steps= step, geometries = geometry, overview = overview, annotations = annotation)\n",
    "\n",
    "r = requests.get(base_url + route_service_url)\n",
    "print(r.json())"
   ],
   "metadata": {
    "collapsed": false,
    "pycharm": {
     "name": "#%%\n"
    }
   }
  },
  {
   "cell_type": "code",
   "execution_count": null,
   "outputs": [],
   "source": [
    "def trunc(a, x):\n",
    "    int1 = int(a * (10**x))/(10**x)\n",
    "    return float(int1)"
   ],
   "metadata": {
    "collapsed": false,
    "pycharm": {
     "name": "#%%\n"
    }
   }
  },
  {
   "cell_type": "code",
   "execution_count": null,
   "outputs": [],
   "source": [
    "requests_origin = [[-58.27611923217773,-34.7228847459182],[-58.4255075454712,-34.6337596447102],[-58.332080841064446,-34.75175051870402],[-58.31324100494384,-34.78101155893815],[-58.3904242515564,-34.654224151048375],[-58.3892011642456,-34.64865505738122]]\n",
    "geometry = {\n",
    "          \"coordinates\": [\n",
    "            [\n",
    "              -58.276132,\n",
    "              -34.722867\n",
    "            ],\n",
    "            [\n",
    "              -58.27604,\n",
    "              -34.721706\n",
    "            ],\n",
    "            [\n",
    "              -58.26935,\n",
    "              -34.718458\n",
    "            ],\n",
    "            [\n",
    "              -58.274427,\n",
    "              -34.7123\n",
    "            ],\n",
    "            [\n",
    "              -58.282352,\n",
    "              -34.708645\n",
    "            ],\n",
    "            [\n",
    "              -58.276622,\n",
    "              -34.703373\n",
    "            ],\n",
    "            [\n",
    "              -58.271381,\n",
    "              -34.700583\n",
    "            ],\n",
    "            [\n",
    "              -58.273953,\n",
    "              -34.7013\n",
    "            ],\n",
    "            [\n",
    "              -58.280053,\n",
    "              -34.694925\n",
    "            ],\n",
    "            [\n",
    "              -58.288201,\n",
    "              -34.689654\n",
    "            ],\n",
    "            [\n",
    "              -58.327023,\n",
    "              -34.677755\n",
    "            ],\n",
    "            [\n",
    "              -58.340685,\n",
    "              -34.668565\n",
    "            ],\n",
    "            [\n",
    "              -58.352695,\n",
    "              -34.65323\n",
    "            ],\n",
    "            [\n",
    "              -58.350251,\n",
    "              -34.64412\n",
    "            ],\n",
    "            [\n",
    "              -58.35325,\n",
    "              -34.637272\n",
    "            ],\n",
    "            [\n",
    "              -58.353921,\n",
    "              -34.631137\n",
    "            ],\n",
    "            [\n",
    "              -58.365199,\n",
    "              -34.622701\n",
    "            ],\n",
    "            [\n",
    "              -58.38525,\n",
    "              -34.622849\n",
    "            ],\n",
    "            [\n",
    "              -58.400262,\n",
    "              -34.624843\n",
    "            ],\n",
    "            [\n",
    "              -58.401852,\n",
    "              -34.625184\n",
    "            ],\n",
    "            [\n",
    "              -58.401132,\n",
    "              -34.628612\n",
    "            ],\n",
    "            [\n",
    "              -58.426911,\n",
    "              -34.632636\n",
    "            ],\n",
    "            [\n",
    "              -58.42659,\n",
    "              -34.633941\n",
    "            ],\n",
    "            [\n",
    "              -58.425508,\n",
    "              -34.63376\n",
    "            ],\n",
    "            [\n",
    "              -58.422777,\n",
    "              -34.642961\n",
    "            ],\n",
    "            [\n",
    "              -58.419183,\n",
    "              -34.647135\n",
    "            ],\n",
    "            [\n",
    "              -58.4164,\n",
    "              -34.64854\n",
    "            ],\n",
    "            [\n",
    "              -58.417044,\n",
    "              -34.66884\n",
    "            ],\n",
    "            [\n",
    "              -58.399472,\n",
    "              -34.684894\n",
    "            ],\n",
    "            [\n",
    "              -58.356856,\n",
    "              -34.717227\n",
    "            ],\n",
    "            [\n",
    "              -58.353131,\n",
    "              -34.713977\n",
    "            ],\n",
    "            [\n",
    "              -58.351421,\n",
    "              -34.715315\n",
    "            ],\n",
    "            [\n",
    "              -58.346858,\n",
    "              -34.727061\n",
    "            ],\n",
    "            [\n",
    "              -58.342028,\n",
    "              -34.746423\n",
    "            ],\n",
    "            [\n",
    "              -58.337005,\n",
    "              -34.753966\n",
    "            ],\n",
    "            [\n",
    "              -58.332125,\n",
    "              -34.751742\n",
    "            ],\n",
    "            [\n",
    "              -58.337005,\n",
    "              -34.753966\n",
    "            ],\n",
    "            [\n",
    "              -58.321061,\n",
    "              -34.776758\n",
    "            ],\n",
    "            [\n",
    "              -58.316483,\n",
    "              -34.781235\n",
    "            ],\n",
    "            [\n",
    "              -58.313563,\n",
    "              -34.779452\n",
    "            ],\n",
    "            [\n",
    "              -58.313258,\n",
    "              -34.780993\n",
    "            ],\n",
    "            [\n",
    "              -58.315377,\n",
    "              -34.782288\n",
    "            ],\n",
    "            [\n",
    "              -58.320713,\n",
    "              -34.777083\n",
    "            ],\n",
    "            [\n",
    "              -58.341946,\n",
    "              -34.746377\n",
    "            ],\n",
    "            [\n",
    "              -58.352203,\n",
    "              -34.710786\n",
    "            ],\n",
    "            [\n",
    "              -58.386232,\n",
    "              -34.684569\n",
    "            ],\n",
    "            [\n",
    "              -58.382879,\n",
    "              -34.67691\n",
    "            ],\n",
    "            [\n",
    "              -58.390691,\n",
    "              -34.670555\n",
    "            ],\n",
    "            [\n",
    "              -58.387768,\n",
    "              -34.6681\n",
    "            ],\n",
    "            [\n",
    "              -58.389703,\n",
    "              -34.666372\n",
    "            ],\n",
    "            [\n",
    "              -58.388162,\n",
    "              -34.662221\n",
    "            ],\n",
    "            [\n",
    "              -58.389012,\n",
    "              -34.651123\n",
    "            ],\n",
    "            [\n",
    "              -58.390652,\n",
    "              -34.651214\n",
    "            ],\n",
    "            [\n",
    "              -58.390429,\n",
    "              -34.654224\n",
    "            ],\n",
    "            [\n",
    "              -58.390288,\n",
    "              -34.655725\n",
    "            ],\n",
    "            [\n",
    "              -58.391892,\n",
    "              -34.655829\n",
    "            ],\n",
    "            [\n",
    "              -58.392046,\n",
    "              -34.654051\n",
    "            ],\n",
    "            [\n",
    "              -58.3888,\n",
    "              -34.653876\n",
    "            ],\n",
    "            [\n",
    "              -58.389215,\n",
    "              -34.648656\n",
    "            ]\n",
    "          ],\n",
    "          \"type\": \"LineString\"\n",
    "        }"
   ],
   "metadata": {
    "collapsed": false,
    "pycharm": {
     "name": "#%%\n"
    }
   }
  },
  {
   "cell_type": "code",
   "execution_count": null,
   "outputs": [],
   "source": [
    "def func_action(loc):\n",
    "    return [trunc(loc[0],4), trunc(loc[1],4)]\n",
    "\n",
    "requests_origin = map(func_action,requests_origin)\n",
    "geometry.coordinates = map(func_action, geometry.coordinates)\n"
   ],
   "metadata": {
    "collapsed": false,
    "pycharm": {
     "name": "#%%\n"
    }
   }
  }
 ],
 "metadata": {
  "kernelspec": {
   "display_name": "Python 3",
   "language": "python",
   "name": "python3"
  },
  "language_info": {
   "codemirror_mode": {
    "name": "ipython",
    "version": 2
   },
   "file_extension": ".py",
   "mimetype": "text/x-python",
   "name": "python",
   "nbconvert_exporter": "python",
   "pygments_lexer": "ipython2",
   "version": "2.7.6"
  }
 },
 "nbformat": 4,
 "nbformat_minor": 0
}