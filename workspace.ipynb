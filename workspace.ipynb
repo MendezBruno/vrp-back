{
 "cells": [
  {
   "cell_type": "code",
   "execution_count": 1,
   "metadata": {
    "collapsed": true
   },
   "outputs": [],
   "source": [
    "import requests"
   ]
  },
  {
   "cell_type": "code",
   "execution_count": 6,
   "outputs": [
    {
     "name": "stdout",
     "output_type": "stream",
     "text": [
      "{'code': 'Ok', 'waypoints': [{'nodes': [8507892381, 0], 'hint': 'ozriCLtR34AYAAAABQAAAAAAAAAgAAAASjFaQdLNK0AAAAAAsPePQQwAAAADAAAAAAAAABAAAABx6AAA_kvMAKlYIQM8TMwArVghAwAA7wr0CAxx', 'distance': 4.231666, 'location': [13.388798, 52.517033], 'name': 'Friedrichstraße'}, {'nodes': [2264199819, 0], 'hint': 'ozriCLtR34AAAAAAIAAAAB0AAAAAAAAAAAAAALD3j0FGkoJBAAAAAAAAAAAQAAAADwAAAAAAAABx6AAAAkzMAJFYIQM8TMwArVghAwEA7wr0CAxx', 'distance': 5.020526, 'location': [13.388802, 52.517009], 'name': 'Friedrichstraße'}, {'nodes': [0, 21487242], 'hint': 'ojriiKxR3wAAAAAADwAAAAAAAACXAAAAAAAAAAgwH0EAAAAAEgyvQgAAAAAPAAAAAAAAAJcAAABx6AAA60vMACNZIQM8TMwArVghAwAALxb0CAxx', 'distance': 14.235305, 'location': [13.388779, 52.517155], 'name': 'Friedrichstraße'}]}\n"
     ]
    }
   ],
   "source": [
    "r = requests.get('http://router.project-osrm.org/nearest/v1/driving/13.388860,52.517037?number=3&bearings=0,20')\n",
    "print(r.json())"
   ],
   "metadata": {
    "collapsed": false,
    "pycharm": {
     "name": "#%%\n"
    }
   }
  },
  {
   "cell_type": "code",
   "execution_count": 5,
   "outputs": [],
   "source": [
    "base_url = \"http://router.project-osrm.org/\""
   ],
   "metadata": {
    "collapsed": false,
    "pycharm": {
     "name": "#%%\n"
    }
   }
  },
  {
   "cell_type": "markdown",
   "source": [
    "/route/v1/{profile}/{coordinates}?alternatives={true|false|number}&steps={true|false}&geometries={polyline|polyline6|geojson}&overview={full|simplified|false}&annotations={true|false}\n",
    "\n",
    "'http://router.project-osrm.org/route/v1/driving/13.388860,52.517037;13.397634,52.529407;13.428555,52.523219?overview=false'"
   ],
   "metadata": {
    "collapsed": false
   }
  },
  {
   "cell_type": "code",
   "execution_count": 8,
   "outputs": [
    {
     "name": "stdout",
     "output_type": "stream",
     "text": [
      "{'code': 'Ok', 'waypoints': [{'hint': 'ETbShf___38cAAAAcgAAAAAAAAAAAAAAj27JQYeVmEIAAAAAAAAAABwAAAByAAAAAAAAAAAAAABYWQAA3MaG_M0r7v3pxob8uyvu_QAAvwOV0jxv', 'distance': 2.324863, 'location': [-58.276132, -34.722867], 'name': 'San Juan'}, {'hint': 'BKqggAa21YUjAAAACAAAAAAAAAAAAAAAybVsQUBzPkAAAAAAAAAAACMAAAAIAAAAAAAAAAAAAABYWQAAI-yF_AK77f1P7IX8-brt_QAALwyV0jxv', 'distance': 4.149634, 'location': [-58.332125, -34.751742], 'name': ''}, {'hint': 'Zv3VhWr91YU7AAAAQQAAAAAAAAAAAAAAnfWdQlgVrUIAAAAAAAAAADsAAABBAAAAAAAAAAAAAABYWQAA1jWG_L9I7f3nNYb8rEjt_QAAnw6V0jxv', 'distance': 2.619964, 'location': [-58.313258, -34.780993], 'name': 'Avenida José Andrés López'}], 'routes': [{'legs': [{'steps': [], 'weight': 3869.8, 'distance': 6894.8, 'summary': '', 'duration': 593.1}, {'steps': [], 'weight': 356.1, 'distance': 4660.3, 'summary': '', 'duration': 356.1}], 'weight_name': 'routability', 'weight': 4225.9, 'distance': 11555.1, 'duration': 949.2}]}\n"
     ]
    }
   ],
   "source": [
    "profile = \"driving\"\n",
    "sanjuan = \"-58.27611923217773,-34.7228847459182\"\n",
    "federal = \"-58.332080841064446,-34.75175051870402\"\n",
    "roel = \"-58.31324100494384,-34.78101155893815\"\n",
    "myTuple = (sanjuan,federal,roel)\n",
    "#coordinates = \"13.388860,52.517037;13.397634,52.529407;13.428555,52.523219\"\n",
    "coordinates = \";\".join(myTuple)\n",
    "alternative= \"2\"   #{true|false|number}\n",
    "step = \"false\"    #{true | false }\n",
    "geometry= \"geojson\"      #{polyline|polyline6|geojson}\n",
    "overview= \"false\"   #{full|simplified|false}\n",
    "annotation=\"false\"     #{true|false}\n",
    "route_service_url = \"route/v1/{profile}/{coordinates}?alternatives={alternatives}&steps={steps}&geometries={geometries}&overview={overview}&annotations={annotations}\".format(profile = profile, coordinates = coordinates, alternatives = alternative,steps= step, geometries = geometry, overview = overview, annotations = annotation)\n",
    "\n",
    "r = requests.get(base_url + route_service_url)\n",
    "print(r.json())"
   ],
   "metadata": {
    "collapsed": false,
    "pycharm": {
     "name": "#%%\n"
    }
   }
  }
 ],
 "metadata": {
  "kernelspec": {
   "display_name": "Python 3",
   "language": "python",
   "name": "python3"
  },
  "language_info": {
   "codemirror_mode": {
    "name": "ipython",
    "version": 2
   },
   "file_extension": ".py",
   "mimetype": "text/x-python",
   "name": "python",
   "nbconvert_exporter": "python",
   "pygments_lexer": "ipython2",
   "version": "2.7.6"
  }
 },
 "nbformat": 4,
 "nbformat_minor": 0
}